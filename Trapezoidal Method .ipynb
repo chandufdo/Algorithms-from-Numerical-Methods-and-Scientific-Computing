{
 "cells": [
  {
   "cell_type": "code",
   "execution_count": null,
   "id": "433acea9",
   "metadata": {},
   "outputs": [],
   "source": [
    "# Trapezoidal Method Example - Integrate 1/(1+x^2)\n",
    "\n",
    "import numpy as np \n",
    "import matplotlib.pyplot as plt \n",
    "\n",
    "def f(x):\n",
    "    return 1/(1 + x**2)                   # Define function to integrate\n",
    "\n",
    "# Input section\n",
    "x0 = float(input(\"Enter lower limit of integration: \"))\n",
    "xn = float(input(\"Enter upper limit of integration: \"))\n",
    "n = int(input(\"Enter number of sub intervals: \"))\n",
    "\n",
    "def trapezoidal(x0,xn,n):                 # Implementing trapezoidal method\n",
    "    h = (xn - x0) / n                     # Calculating step size    \n",
    "    I = f(x0) + f(xn)                     # Finding sum of f(x0)and f(x1)\n",
    "    \n",
    "    for i in range(1,n):\n",
    "        k = x0 + i*h\n",
    "        I = I + 2 * f(k)                  \n",
    "        \n",
    "    I = I * h/2                           # integral(f(x)) = h/2*(f(x0)+f(x1))\n",
    "    return I\n",
    "    \n",
    "result = trapezoidal(x0, xn, n)\n",
    "print(\"Integration result by Trapezoidal method is: %0.6f\" % (result) )\n",
    "\n",
    "\n",
    "\n"
   ]
  },
  {
   "cell_type": "code",
   "execution_count": null,
   "id": "84f8770c",
   "metadata": {},
   "outputs": [],
   "source": [
    "## Trapezoidal rule with plotting graph \n",
    "## How to enter functions such as sin(x),cos(x)\n",
    "\n",
    "import numpy as np\n",
    "import matplotlib.pyplot as plt\n",
    "\n",
    "\n",
    "a = 0\n",
    "b = np.pi\n",
    "n = 11\n",
    "h = (b - a) / (n - 1)\n",
    "x = np.linspace(a, b, n)\n",
    "f = np.sin(x)\n",
    "\n",
    "I_trap = (h/2)*(f[0] + 2 * sum(f[1:n-1]) + f[n-1])\n",
    "err_trap = 2 - I_trap\n",
    "\n",
    "print(I_trap)\n",
    "print(err_trap)\n",
    "\n",
    "plt.figure()\n",
    "plt.plot(x,f,'r')\n",
    "plt.show()"
   ]
  },
  {
   "cell_type": "code",
   "execution_count": 3,
   "id": "695a02f2",
   "metadata": {},
   "outputs": [
    {
     "name": "stdout",
     "output_type": "stream",
     "text": [
      "0.15698552046381703\n",
      "1.843014479536183\n"
     ]
    },
    {
     "data": {
      "image/png": "[encoded data removed]",
      "text/plain": [
       "<Figure size 432x288 with 1 Axes>"
      ]
     },
     "metadata": {
      "needs_background": "light"
     },
     "output_type": "display_data"
    }
   ],
   "source": [
    "import numpy as np\n",
    "import matplotlib.pyplot as plt\n",
    "\n",
    "a = 3\n",
    "b = 6\n",
    "n = 11\n",
    "h = (b - a) / (n - 1)\n",
    "x = np.linspace(a, b, n)\n",
    "f = (1/(1 + x**2))\n",
    "\n",
    "I_trap = (h/2)*(f[0] + 2 * sum(f[1:n-1]) + f[n-1])\n",
    "err_trap = 2 - I_trap\n",
    "\n",
    "print(I_trap)\n",
    "print(err_trap)\n",
    "\n",
    "plt.figure()\n",
    "plt.plot(x,f,'r')\n",
    "plt.show()"
   ]
  },
  {
   "cell_type": "code",
   "execution_count": 4,
   "id": "1991c541",
   "metadata": {},
   "outputs": [
    {
     "name": "stdout",
     "output_type": "stream",
     "text": [
      "Enter lower limit of integration: 3\n",
      "Enter upper limit of integration: 6\n",
      "Enter number of sub intervals + 1: 10\n",
      "0.1570753337223524\n",
      "1.8429246662776475\n"
     ]
    },
    {
     "data": {
      "image/png": "[encoded data removed]",
      "text/plain": [
       "<Figure size 432x288 with 1 Axes>"
      ]
     },
     "metadata": {
      "needs_background": "light"
     },
     "output_type": "display_data"
    }
   ],
   "source": [
    "##Trapezoidal method \n",
    "##input values and draw graph \n",
    "\n",
    "import numpy as np\n",
    "import matplotlib.pyplot as plt\n",
    "\n",
    "a = float(input(\"Enter lower limit of integration: \"))\n",
    "b = float(input(\"Enter upper limit of integration: \"))\n",
    "n = int(input(\"Enter number of sub intervals + 1: \"))\n",
    "\n",
    "h = (b - a) / (n - 1)\n",
    "x = np.linspace(a, b, n)\n",
    "f = (1/(1 + x**2))\n",
    "\n",
    "I_trap = (h/2)*(f[0] + 2 * sum(f[1:n-1]) + f[n-1])\n",
    "err_trap = 2 - I_trap\n",
    "\n",
    "print(I_trap)\n",
    "print(err_trap)\n",
    "\n",
    "plt.figure()\n",
    "plt.plot(x,f,'r')\n",
    "plt.show()\n"
   ]
  },
  {
   "cell_type": "code",
   "execution_count": 2,
   "id": "cb172c45",
   "metadata": {},
   "outputs": [
    {
     "name": "stdout",
     "output_type": "stream",
     "text": [
      "Enter number of datapoints: 5\n",
      "Enter data for x and y: \n",
      "x[0]=1.8\n",
      "y[0]=3.12014\n",
      "x[1]=2.0\n",
      "y[1]=4.42569\n",
      "x[2]=2.2\n",
      "y[2]=6.04241\n",
      "x[3]=2.4\n",
      "y[3]=8.03014\n",
      "x[4]=2.6\n",
      "y[4]=10.46675\n",
      "Enter lower limit of integration: 1.8\n",
      "Enter upper limit of integration: 2.6\n",
      "Value of Integral=  5.058337\n"
     ]
    }
   ],
   "source": [
    "## Trapezoidal rule for given data set \n",
    "\n",
    "import numpy as np\n",
    "import matplotlib.pyplot as plt\n",
    "\n",
    "n = int(input(\"Enter number of datapoints: \"))\n",
    "\n",
    "\n",
    "x=np.zeros(n)\n",
    "y=np.zeros(n)    #y=f(x)\n",
    "\n",
    "print('Enter data for x and y: ')\n",
    "for i in range(n):\n",
    "    x[i] = float(input( 'x['+str(i)+']='))              # Enter data for x\n",
    "    y[i] = float(input( 'y['+str(i)+']='))              # Enter data for y=f(x) \n",
    "\n",
    "a = float(input(\"Enter lower limit of integration: \"))\n",
    "b = float(input(\"Enter upper limit of integration: \"))\n",
    "\n",
    "h = (b - a) / (n - 1)\n",
    "\n",
    "I_trap = (h/2)*(y[0] + 2 * sum(y[1:n-1]) + y[n-1])\n",
    "\n",
    "print(\"Value of Integral= \",I_trap)\n"
   ]
  },
  {
   "cell_type": "code",
   "execution_count": null,
   "id": "9f93f0af",
   "metadata": {},
   "outputs": [],
   "source": [
    "Enter number of sub intervals: 5\n",
    "Enter data for x and y: \n",
    "x[0]=1.8\n",
    "y[0]=3.12014\n",
    "x[1]=2.0\n",
    "y[1]=4.42569\n",
    "x[2]=2.2\n",
    "y[2]=6.04241\n",
    "x[3]=2.4\n",
    "y[3]=8.03014\n",
    "x[4]=2.6\n",
    "y[4]=10.46675\n",
    "Enter lower limit of integration: 1.8\n",
    "Enter upper limit of integration: 2.6\n",
    "Value of Integral=  5.058337"
   ]
  },
  {
   "cell_type": "code",
   "execution_count": null,
   "id": "bc649376",
   "metadata": {},
   "outputs": [],
   "source": [
    "\n",
    "\n"
   ]
  },
  {
   "cell_type": "code",
   "execution_count": null,
   "id": "0e41b5b6",
   "metadata": {},
   "outputs": [],
   "source": []
  },
  {
   "cell_type": "code",
   "execution_count": null,
   "id": "207c50dd",
   "metadata": {},
   "outputs": [],
   "source": []
  },
  {
   "cell_type": "code",
   "execution_count": null,
   "id": "8856ba2b",
   "metadata": {},
   "outputs": [],
   "source": []
  },
  {
   "cell_type": "code",
   "execution_count": null,
   "id": "7adaabe3",
   "metadata": {},
   "outputs": [],
   "source": []
  },
  {
   "cell_type": "code",
   "execution_count": null,
   "id": "604d1d72",
   "metadata": {},
   "outputs": [],
   "source": []
  },
  {
   "cell_type": "code",
   "execution_count": null,
   "id": "8e1f630a",
   "metadata": {},
   "outputs": [],
   "source": [
    "\n"
   ]
  },
  {
   "cell_type": "code",
   "execution_count": null,
   "id": "502fcd37",
   "metadata": {},
   "outputs": [],
   "source": []
  },
  {
   "cell_type": "code",
   "execution_count": null,
   "id": "4c8de9c2",
   "metadata": {},
   "outputs": [],
   "source": []
  },
  {
   "cell_type": "code",
   "execution_count": null,
   "id": "70c7de21",
   "metadata": {},
   "outputs": [],
   "source": []
  },
  {
   "cell_type": "code",
   "execution_count": null,
   "id": "0050f7fe",
   "metadata": {},
   "outputs": [],
   "source": []
  }
 ],
 "metadata": {
  "kernelspec": {
   "display_name": "Python 3 (ipykernel)",
   "language": "python",
   "name": "python3"
  },
  "language_info": {
   "codemirror_mode": {
    "name": "ipython",
    "version": 3
   },
   "file_extension": ".py",
   "mimetype": "text/x-python",
   "name": "python",
   "nbconvert_exporter": "python",
   "pygments_lexer": "ipython3",
   "version": "3.9.12"
  }
 },
 "nbformat": 4,
 "nbformat_minor": 5
}
