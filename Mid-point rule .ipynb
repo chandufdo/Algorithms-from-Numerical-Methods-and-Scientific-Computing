{
 "cells": [
  {
   "cell_type": "code",
   "execution_count": 6,
   "id": "4a2d5598",
   "metadata": {},
   "outputs": [
    {
     "name": "stdout",
     "output_type": "stream",
     "text": [
      "Enter lower limit of integration: 3\n",
      "Enter upper limit of integration: 6\n",
      "Enter number of sub intervals + 1: 10\n",
      "0.1570753337223524\n",
      "1.8429246662776475\n"
     ]
    },
    {
     "data": {
      "image/png": "[encoded data removed]",
      "text/plain": [
       "<Figure size 432x288 with 1 Axes>"
      ]
     },
     "metadata": {
      "needs_background": "light"
     },
     "output_type": "display_data"
    }
   ],
   "source": [
    "## Mid point rule \n",
    "# graph and inputs \n",
    "\n",
    "import numpy as np\n",
    "import matplotlib.pyplot as plt \n",
    "\n",
    "a = float(input(\"Enter lower limit of integration: \"))\n",
    "b = float(input(\"Enter upper limit of integration: \"))\n",
    "n = int(input(\"Enter number of sub intervals + 1: \"))\n",
    "\n",
    "h = (b - a) / (n - 1)\n",
    "x = np.linspace(a, b, n)\n",
    "f = 1/(1 + x**2)\n",
    "\n",
    "\n",
    "I_mid = h * sum((f[:n-1] + f[1:])/2)\n",
    "err_mid = 2 - I_mid\n",
    "\n",
    "print(I_mid)\n",
    "print(err_mid)\n",
    "\n",
    "\n",
    "plt.figure()\n",
    "plt.plot(x,f,'-ob')\n",
    "plt.show()"
   ]
  },
  {
   "cell_type": "code",
   "execution_count": 3,
   "id": "b253b276",
   "metadata": {},
   "outputs": [
    {
     "name": "stdout",
     "output_type": "stream",
     "text": [
      "2.0082484079079745\n",
      "-0.008248407907974542\n"
     ]
    }
   ],
   "source": [
    "# mid-point rule - for functions such as cosx/ sinx \n",
    "\n",
    "import numpy as np\n",
    "\n",
    "a = 0\n",
    "b = np.pi\n",
    "n = 11\n",
    "h = (b - a) / (n - 1)\n",
    "x = np.linspace(a, b, n)\n",
    "f = np.sin(x)\n",
    "\n",
    "I_mid = h * sum(np.sin((x[:n-1] + x[1:])/2))\n",
    "err_mid = 2 - I_mid\n",
    "\n",
    "\n",
    "print(I_mid)\n",
    "print(err_mid)"
   ]
  },
  {
   "cell_type": "code",
   "execution_count": 8,
   "id": "661bc2d0",
   "metadata": {},
   "outputs": [
    {
     "name": "stdout",
     "output_type": "stream",
     "text": [
      "Enter number of datapoints: 5\n",
      "Enter data for x and y: \n",
      "x[0]=1.8\n",
      "y[0]=3.12014\n",
      "x[1]=2.0\n",
      "y[1]=4.42569\n",
      "x[2]=2.2\n",
      "y[2]=6.04241\n",
      "x[3]=2.4\n",
      "y[3]=8.03014\n",
      "x[4]=2.6\n",
      "y[4]=10.46675\n",
      "Enter lower limit of integration: 1.8\n",
      "Enter upper limit of integration: 2.6\n",
      "Value of integral=  5.058337000000001\n"
     ]
    }
   ],
   "source": [
    "## Midpoint rule for given data set \n",
    "\n",
    "import numpy as np\n",
    "import matplotlib.pyplot as plt\n",
    "\n",
    "n = int(input(\"Enter number of datapoints: \"))\n",
    "\n",
    "x=np.zeros(n)\n",
    "y=np.zeros(n)    #y=f(x)\n",
    "\n",
    "print('Enter data for x and y: ')\n",
    "for i in range(n):\n",
    "    x[i] = float(input( 'x['+str(i)+']='))              # Enter data for x\n",
    "    y[i] = float(input( 'y['+str(i)+']='))              # Enter data for y=f(x) \n",
    "\n",
    "a = float(input(\"Enter lower limit of integration: \"))\n",
    "b = float(input(\"Enter upper limit of integration: \"))\n",
    "\n",
    "h = (b - a) / (n - 1)\n",
    "\n",
    "I_mid = h * sum((y[:n-1] + y[1:])/2)\n",
    "\n",
    "print(\"Value of integral= \",I_mid)"
   ]
  },
  {
   "cell_type": "code",
   "execution_count": null,
   "id": "12313164",
   "metadata": {},
   "outputs": [],
   "source": [
    "Enter number of sub intervals: 5\n",
    "Enter data for x and y: \n",
    "x[0]=1.8\n",
    "y[0]=3.12014\n",
    "x[1]=2.0\n",
    "y[1]=4.42569\n",
    "x[2]=2.2\n",
    "y[2]=6.04241\n",
    "x[3]=2.4\n",
    "y[3]=8.03014\n",
    "x[4]=2.6\n",
    "y[4]=10.46675\n",
    "Enter lower limit of integration: 1.8\n",
    "Enter upper limit of integration: 2.6\n",
    "Value of Integral=  5.058337\n",
    "\n",
    "\n"
   ]
  },
  {
   "cell_type": "code",
   "execution_count": null,
   "id": "32eadad9",
   "metadata": {},
   "outputs": [],
   "source": []
  },
  {
   "cell_type": "code",
   "execution_count": null,
   "id": "60ea06b6",
   "metadata": {},
   "outputs": [],
   "source": []
  },
  {
   "cell_type": "code",
   "execution_count": null,
   "id": "1f1ade94",
   "metadata": {},
   "outputs": [],
   "source": []
  },
  {
   "cell_type": "code",
   "execution_count": null,
   "id": "21b81cc0",
   "metadata": {},
   "outputs": [],
   "source": []
  },
  {
   "cell_type": "code",
   "execution_count": null,
   "id": "2468bc03",
   "metadata": {},
   "outputs": [],
   "source": []
  },
  {
   "cell_type": "code",
   "execution_count": null,
   "id": "6973e474",
   "metadata": {},
   "outputs": [],
   "source": []
  },
  {
   "cell_type": "code",
   "execution_count": null,
   "id": "e4e08e17",
   "metadata": {},
   "outputs": [],
   "source": []
  },
  {
   "cell_type": "code",
   "execution_count": null,
   "id": "534b562a",
   "metadata": {},
   "outputs": [],
   "source": []
  },
  {
   "cell_type": "code",
   "execution_count": null,
   "id": "2003ef69",
   "metadata": {},
   "outputs": [],
   "source": []
  },
  {
   "cell_type": "code",
   "execution_count": null,
   "id": "6db33dd2",
   "metadata": {},
   "outputs": [],
   "source": []
  },
  {
   "cell_type": "code",
   "execution_count": null,
   "id": "4bd8fbdc",
   "metadata": {},
   "outputs": [],
   "source": [
    "\n"
   ]
  }
 ],
 "metadata": {
  "kernelspec": {
   "display_name": "Python 3 (ipykernel)",
   "language": "python",
   "name": "python3"
  },
  "language_info": {
   "codemirror_mode": {
    "name": "ipython",
    "version": 3
   },
   "file_extension": ".py",
   "mimetype": "text/x-python",
   "name": "python",
   "nbconvert_exporter": "python",
   "pygments_lexer": "ipython3",
   "version": "3.9.12"
  }
 },
 "nbformat": 4,
 "nbformat_minor": 5
}
