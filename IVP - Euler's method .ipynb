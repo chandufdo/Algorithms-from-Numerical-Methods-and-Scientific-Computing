{
 "cells": [
  {
   "cell_type": "code",
   "execution_count": 1,
   "id": "d810b2bc",
   "metadata": {},
   "outputs": [
    {
     "name": "stdout",
     "output_type": "stream",
     "text": [
      "Enter starting value of interval: 0\n",
      "Enter ending value of interval: 2\n",
      "No. of mesh points: 10\n",
      "Enter initial condition (alpha): 0.5\n",
      "t1= 0\n",
      "w=  0.5\n",
      "At i=  0  , t1=  0.0  and w=  0.8\n",
      "At i=  1  , t1=  0.2  and w=  1.1600000000000001\n",
      "At i=  2  , t1=  0.4  and w=  1.584\n",
      "At i=  3  , t1=  0.6000000000000001  and w=  2.0688\n",
      "At i=  4  , t1=  0.8  and w=  2.61056\n",
      "At i=  5  , t1=  1.0  and w=  3.204672\n",
      "At i=  6  , t1=  1.2000000000000002  and w=  3.8456064\n",
      "At i=  7  , t1=  1.4000000000000001  and w=  4.52672768\n",
      "At i=  8  , t1=  1.6  and w=  5.240073215999999\n",
      "At i=  9  , t1=  1.8  and w=  5.976087859199999\n"
     ]
    }
   ],
   "source": [
    "import numpy as np\n",
    "from sympy import *\n",
    "\n",
    "a = int(input('Enter starting value of interval: '))\n",
    "b = int(input('Enter ending value of interval: '))\n",
    "N = int(input('No. of mesh points: '))\n",
    "al = float(input('Enter initial condition (alpha): ')) #alpha\n",
    "\n",
    "t = symbols('t')\n",
    "y = symbols('y')\n",
    "df = y - (t ** 2) + 1\n",
    "\n",
    "#al = 0.5\n",
    "\n",
    "h = (b - a) / N\n",
    "t1 = a\n",
    "w = al\n",
    "\n",
    "print('t1=', t1)\n",
    "print('w= ', w)\n",
    "\n",
    "for i in range(N):\n",
    "    w = w + (h * (w-(t1 ** 2) + 1)) # w = w + h.f(t,w)\n",
    "    t1 = a + (i*h)\n",
    "    print('At i= ',i,' , t1= ',t1,' and w= ',w)"
   ]
  },
  {
   "cell_type": "code",
   "execution_count": 2,
   "id": "d68b9671",
   "metadata": {},
   "outputs": [
    {
     "name": "stdout",
     "output_type": "stream",
     "text": [
      "Enter starting value of interval: 0\n",
      "Enter ending value of interval: 2\n",
      "N=  4\n",
      "t1= 0\n",
      "w=  0.5\n",
      "At i=  0  , t1=  0.0  and w=  1.25\n",
      "At i=  1  , t1=  0.5  and w=  2.375\n",
      "At i=  2  , t1=  1.0  and w=  3.9375\n",
      "At i=  3  , t1=  1.5  and w=  5.90625\n"
     ]
    }
   ],
   "source": [
    "## Exercise 3.2\n",
    "\n",
    "\n",
    "import numpy as np\n",
    "from sympy import *\n",
    "\n",
    "a = int(input('Enter starting value of interval: '))\n",
    "b = int(input('Enter ending value of interval: '))\n",
    "#N = int(input('No. of mesh points: '))\n",
    "\n",
    "#t = symbols('t')\n",
    "#y = symbols('y')\n",
    "df = y - (t ** 2) + 1\n",
    "\n",
    "al = 0.5\n",
    "\n",
    "#h = (b - a) / N\n",
    "\n",
    "h=0.5\n",
    "N = int((b-a)/h)\n",
    "print(\"N= \",N)\n",
    "t1 = a\n",
    "w = al\n",
    "\n",
    "print('t1=', t1)\n",
    "print('w= ', w)\n",
    "\n",
    "for i in range(0,N):\n",
    "    w= w+ (h*(w - (t1 ** 2) + 1))\n",
    "    t1=a+ (i*h)\n",
    "    print('At i= ',i,' , t1= ',t1,' and w= ',w)"
   ]
  },
  {
   "cell_type": "code",
   "execution_count": 11,
   "id": "d7212e67",
   "metadata": {},
   "outputs": [
    {
     "name": "stdout",
     "output_type": "stream",
     "text": [
      "[0.5        1.42563936 2.64085909 4.00915547]\n"
     ]
    }
   ],
   "source": [
    "import numpy as np \n",
    "\n",
    "t = np.array([0,0.5,1.0,1.5])\n",
    "\n",
    "y = np.array(len(t))\n",
    "\n",
    "y = (t+1)**2 - (0.5* (2.718281828**t))\n",
    "\n",
    "print(y)"
   ]
  },
  {
   "cell_type": "code",
   "execution_count": null,
   "id": "8cd065dd",
   "metadata": {},
   "outputs": [],
   "source": []
  },
  {
   "cell_type": "code",
   "execution_count": null,
   "id": "06eaa4e2",
   "metadata": {},
   "outputs": [],
   "source": [
    "\n"
   ]
  },
  {
   "cell_type": "code",
   "execution_count": null,
   "id": "e7daf59e",
   "metadata": {},
   "outputs": [],
   "source": []
  },
  {
   "cell_type": "code",
   "execution_count": null,
   "id": "dbd273e0",
   "metadata": {},
   "outputs": [],
   "source": []
  },
  {
   "cell_type": "code",
   "execution_count": null,
   "id": "dacb27b7",
   "metadata": {},
   "outputs": [],
   "source": []
  },
  {
   "cell_type": "code",
   "execution_count": null,
   "id": "14e1f9dd",
   "metadata": {},
   "outputs": [],
   "source": [
    "\n"
   ]
  },
  {
   "cell_type": "code",
   "execution_count": null,
   "id": "a35c7562",
   "metadata": {},
   "outputs": [],
   "source": []
  },
  {
   "cell_type": "code",
   "execution_count": null,
   "id": "db34e4f9",
   "metadata": {},
   "outputs": [],
   "source": []
  },
  {
   "cell_type": "code",
   "execution_count": null,
   "id": "ed35225b",
   "metadata": {},
   "outputs": [],
   "source": []
  },
  {
   "cell_type": "code",
   "execution_count": null,
   "id": "3f452225",
   "metadata": {},
   "outputs": [],
   "source": []
  },
  {
   "cell_type": "code",
   "execution_count": null,
   "id": "895a0319",
   "metadata": {},
   "outputs": [],
   "source": []
  },
  {
   "cell_type": "code",
   "execution_count": null,
   "id": "cd081800",
   "metadata": {},
   "outputs": [],
   "source": []
  },
  {
   "cell_type": "code",
   "execution_count": null,
   "id": "eaf09438",
   "metadata": {},
   "outputs": [],
   "source": []
  },
  {
   "cell_type": "code",
   "execution_count": null,
   "id": "6b322030",
   "metadata": {},
   "outputs": [],
   "source": [
    "\n",
    "\n",
    "\n"
   ]
  }
 ],
 "metadata": {
  "kernelspec": {
   "display_name": "Python 3 (ipykernel)",
   "language": "python",
   "name": "python3"
  },
  "language_info": {
   "codemirror_mode": {
    "name": "ipython",
    "version": 3
   },
   "file_extension": ".py",
   "mimetype": "text/x-python",
   "name": "python",
   "nbconvert_exporter": "python",
   "pygments_lexer": "ipython3",
   "version": "3.9.12"
  }
 },
 "nbformat": 4,
 "nbformat_minor": 5
}
