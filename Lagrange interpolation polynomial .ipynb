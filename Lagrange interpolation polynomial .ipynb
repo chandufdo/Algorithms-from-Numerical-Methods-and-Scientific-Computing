{
 "cells": [
  {
   "cell_type": "code",
   "execution_count": 5,
   "id": "15a6ce3c",
   "metadata": {},
   "outputs": [
    {
     "name": "stdout",
     "output_type": "stream",
     "text": [
      "Enter no. of data points : 2\n",
      "Enter data for x and y: \n",
      "x[0]=0\n",
      "y[0]=4\n",
      "x[1]=4\n",
      "y[1]=8\n",
      "Enter interpolation point: 3\n",
      "Interpolated value at 3.0000 using degree = 1 polynomial is 7.0000.\n"
     ]
    }
   ],
   "source": [
    "# Lagrange Interpolation\n",
    "\n",
    "import numpy as np\n",
    "\n",
    "n = int(input('Enter no. of data points : '))           # No of datapoints x[0],x[1],...\n",
    "\n",
    "x = np.zeros((n))                                       # An array of zeroes the size of x\n",
    "y = np.zeros((n))                                       # An array of zeros the size of y correspoding to x\n",
    "\n",
    "print('Enter data for x and y: ')\n",
    "for i in range(n):\n",
    "    x[i] = float(input( 'x['+str(i)+']='))              # Enter data for x\n",
    "    y[i] = float(input( 'y['+str(i)+']='))              # Enter data for y=f(x) \n",
    "\n",
    "xp = float(input('Enter interpolation point: '))        # x-value of approximation \n",
    "\n",
    "yp = 0                                                  # set initial yp=0\n",
    "for i in range(n):\n",
    "    p = 1                                       \n",
    "    for j in range(n): \n",
    "        if i != j:                                      # To calculate L0(x),L1(x),L2(x),...\n",
    "            p = p * (xp - x[j])/(x[i] - x[j])\n",
    "    yp = yp + p * y[i]                                  # Adding each of L0(x)f(x0),L1(x)f(x1),L2(x)f(x2),... \n",
    "\n",
    "    \n",
    "print('Interpolated value at %.4f using degree = %.f polynomial is %.4f.' % (xp,n-1,yp))"
   ]
  },
  {
   "cell_type": "markdown",
   "id": "ab3b89bc",
   "metadata": {},
   "source": [
    "import numpy as np \n",
    "import math \n",
    "import sympy as sym \n",
    "\n",
    "degree 1 \n",
    "ax=[-0.5,0.25]\n",
    "ay=[1,2]\n",
    "\n",
    "def function(p):\n",
    "    g=p[\"\"-1]\n",
    "    n=0\n",
    "    x=sym.symbols(\"x\")\n",
    "    for i in range len(p),0,-1):\n",
    "        m+=q[i-1]*x**(i-1)\n",
    "        "
   ]
  },
  {
   "cell_type": "code",
   "execution_count": null,
   "id": "a7228712",
   "metadata": {},
   "outputs": [],
   "source": []
  },
  {
   "cell_type": "code",
   "execution_count": null,
   "id": "4ccd704a",
   "metadata": {},
   "outputs": [],
   "source": []
  },
  {
   "cell_type": "code",
   "execution_count": null,
   "id": "1805a6df",
   "metadata": {},
   "outputs": [],
   "source": []
  },
  {
   "cell_type": "code",
   "execution_count": null,
   "id": "7a58459c",
   "metadata": {},
   "outputs": [],
   "source": []
  },
  {
   "cell_type": "code",
   "execution_count": null,
   "id": "702713e4",
   "metadata": {},
   "outputs": [],
   "source": []
  },
  {
   "cell_type": "code",
   "execution_count": null,
   "id": "92d55615",
   "metadata": {},
   "outputs": [],
   "source": []
  },
  {
   "cell_type": "code",
   "execution_count": null,
   "id": "7935d02b",
   "metadata": {},
   "outputs": [],
   "source": []
  },
  {
   "cell_type": "code",
   "execution_count": null,
   "id": "376febe6",
   "metadata": {},
   "outputs": [],
   "source": []
  },
  {
   "cell_type": "code",
   "execution_count": null,
   "id": "56f3adbe",
   "metadata": {},
   "outputs": [],
   "source": []
  },
  {
   "cell_type": "code",
   "execution_count": null,
   "id": "d636da3b",
   "metadata": {},
   "outputs": [],
   "source": []
  },
  {
   "cell_type": "code",
   "execution_count": null,
   "id": "74251c80",
   "metadata": {},
   "outputs": [],
   "source": []
  },
  {
   "cell_type": "code",
   "execution_count": null,
   "id": "97c21bdd",
   "metadata": {},
   "outputs": [],
   "source": []
  },
  {
   "cell_type": "code",
   "execution_count": null,
   "id": "ea94d568",
   "metadata": {},
   "outputs": [],
   "source": []
  }
 ],
 "metadata": {
  "kernelspec": {
   "display_name": "Python 3 (ipykernel)",
   "language": "python",
   "name": "python3"
  },
  "language_info": {
   "codemirror_mode": {
    "name": "ipython",
    "version": 3
   },
   "file_extension": ".py",
   "mimetype": "text/x-python",
   "name": "python",
   "nbconvert_exporter": "python",
   "pygments_lexer": "ipython3",
   "version": "3.9.12"
  }
 },
 "nbformat": 4,
 "nbformat_minor": 5
}
