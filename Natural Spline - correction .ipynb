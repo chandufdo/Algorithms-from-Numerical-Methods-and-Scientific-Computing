{
 "cells": [
  {
   "cell_type": "code",
   "execution_count": null,
   "id": "da5055c8",
   "metadata": {},
   "outputs": [],
   "source": [
    "import numpy as np \n",
    "from scipy.interpolate import CubicSpline\n",
    "import matplotlib.pyplot as plt \n",
    "\n",
    "x=[0.00,1.34,5.00,10.00,10.60,10.70,10.80,11.40,19.60,20.20,20.30,20.40,21.00,26.00,29.66,31.00]\n",
    "y=[0.00,5.00,8.66,10.00,10.40,20.30,30.20,30.60,30.60,30.20,20.30,10.40,10.00,8.66,5.00,0.00]\n",
    "\n",
    "f = CubicSpline(x,y,bc_type='natural')\n",
    "\n",
    "x1=np.linspace(0.00,31.00,100)\n",
    "y1=f(x1)\n",
    "\n",
    "plt.figure()\n",
    "plt.plot(x1,y1,'r')\n",
    "plt.show()\n",
    "    \n",
    "    \n",
    "    \n",
    "    \n",
    "    \n",
    "    \n",
    "    "
   ]
  },
  {
   "cell_type": "code",
   "execution_count": 1,
   "id": "195c50e6",
   "metadata": {},
   "outputs": [
    {
     "data": {
      "image/png": "[encoded data removed]",
      "text/plain": [
       "<Figure size 432x288 with 1 Axes>"
      ]
     },
     "metadata": {
      "needs_background": "light"
     },
     "output_type": "display_data"
    }
   ],
   "source": [
    "import numpy as np \n",
    "from scipy.interpolate import CubicSpline\n",
    "import matplotlib.pyplot as plt \n",
    "\n",
    "x=[1,2,3]\n",
    "y=[2,3,5]\n",
    "\n",
    "f = CubicSpline(x,y,bc_type='natural')\n",
    "\n",
    "x1=np.linspace(0.00,31.00,100)\n",
    "y1=f(x1)\n",
    "\n",
    "plt.figure()\n",
    "plt.plot(x1,y1,'r')\n",
    "plt.show()\n",
    "    "
   ]
  },
  {
   "cell_type": "code",
   "execution_count": 9,
   "id": "070c0cca",
   "metadata": {},
   "outputs": [
    {
     "name": "stdout",
     "output_type": "stream",
     "text": [
      "3.0\n",
      "2.0\n",
      "3.0\n",
      "5.0\n"
     ]
    },
    {
     "ename": "IndexError",
     "evalue": "index 5 is out of bounds for axis 0 with size 4",
     "output_type": "error",
     "traceback": [
      "\u001b[1;31m---------------------------------------------------------------------------\u001b[0m",
      "\u001b[1;31mIndexError\u001b[0m                                Traceback (most recent call last)",
      "Input \u001b[1;32mIn [9]\u001b[0m, in \u001b[0;36m<cell line: 50>\u001b[1;34m()\u001b[0m\n\u001b[0;32m     47\u001b[0m     u[i] \u001b[38;5;241m=\u001b[39m h[i] \u001b[38;5;241m/\u001b[39m l[i] \n\u001b[0;32m     48\u001b[0m     z[i] \u001b[38;5;241m=\u001b[39m (alp[n] \u001b[38;5;241m-\u001b[39m (h[i \u001b[38;5;241m-\u001b[39m \u001b[38;5;241m1\u001b[39m] \u001b[38;5;241m*\u001b[39m z[i \u001b[38;5;241m-\u001b[39m \u001b[38;5;241m1\u001b[39m])) \u001b[38;5;241m/\u001b[39m l[i]\n\u001b[1;32m---> 50\u001b[0m l[n\u001b[38;5;241m+\u001b[39m\u001b[38;5;241m1\u001b[39m] \u001b[38;5;241m=\u001b[39m h[n \u001b[38;5;241m-\u001b[39m \u001b[38;5;241m1\u001b[39m] \u001b[38;5;241m*\u001b[39m (\u001b[38;5;241m2\u001b[39m \u001b[38;5;241m-\u001b[39m u[n \u001b[38;5;241m-\u001b[39m \u001b[38;5;241m1\u001b[39m]) \n\u001b[0;32m     51\u001b[0m z[n\u001b[38;5;241m+\u001b[39m\u001b[38;5;241m1\u001b[39m] \u001b[38;5;241m=\u001b[39m (alp[n] \u001b[38;5;241m-\u001b[39m h[n \u001b[38;5;241m-\u001b[39m \u001b[38;5;241m1\u001b[39m] \u001b[38;5;241m*\u001b[39m z[n \u001b[38;5;241m-\u001b[39m \u001b[38;5;241m1\u001b[39m]) \u001b[38;5;241m/\u001b[39m l[n] \n\u001b[0;32m     52\u001b[0m c[n\u001b[38;5;241m+\u001b[39m\u001b[38;5;241m1\u001b[39m] \u001b[38;5;241m=\u001b[39m z[n]\n",
      "\u001b[1;31mIndexError\u001b[0m: index 5 is out of bounds for axis 0 with size 4"
     ]
    }
   ],
   "source": [
    "import numpy as np \n",
    "from sympy import * \n",
    "from scipy.linalg import solve \n",
    "import matplotlib.pyplot as plt\n",
    "\n",
    "x = [0, 3, 5, 8, 13] \n",
    "y = [0, 225, 383, 623, 993] \n",
    "dy = [75, 77, 80, 74, 72]\n",
    "\n",
    "n = len(x) - 1 \n",
    "FP0 = dy[0] \n",
    "FPN = dy[n]\n",
    "\n",
    "a = np.zeros(n + 1)  # a0 to an\n",
    "b = np.zeros(n)  # b0 to bn-1\n",
    "d = np.zeros(n)\n",
    "alp = np.zeros(n + 1)\n",
    "\n",
    "A = np.zeros((n, n)) # nxn matrix \n",
    "B = np.zeros((n, 1)) # nx1 matrix\n",
    "h = np.zeros(n)\n",
    "\n",
    "for i in range(0, n + 1): \n",
    "    a[i] = y[i] \n",
    "    \n",
    "for i in range(0, n): \n",
    "    h[i] = x[i + 1] - x[i] \n",
    "    print(h[i])\n",
    "\n",
    "alp[0] = (3 * (a[1] - a[0]) / h[0]) - 3 * FP0 \n",
    "alp[n] = 3 * FPN - (3 * (a[n] - a[n - 1]) / h[n - 1])\n",
    "\n",
    "for i in range(0, n): \n",
    "    a[i] = ((3 / h[i]) * (a[i + 1] - a[i])) - ((3 / h[i - 1]) * (a[i] - a[i - 1]))\n",
    "\n",
    "l = np.zeros((n)) \n",
    "u = np.zeros((n)) # meu \n",
    "z = np.zeros(n) \n",
    "c = np.zeros(n)\n",
    "\n",
    "l[0] = 2 * h[0] \n",
    "u[0] = 0.5 \n",
    "z[0] = alp[0] - l[0]\n",
    "\n",
    "for i in range(1,n): \n",
    "    l[i] = 2 * (x[i + 1] - x[i - 1]) - (h[i - 1] * u[i - 1]) \n",
    "    u[i] = h[i] / l[i] \n",
    "    z[i] = (alp[n] - (h[i - 1] * z[i - 1])) / l[i]\n",
    "\n",
    "l[n+1] = h[n - 1] * (2 - u[n - 1]) \n",
    "z[n+1] = (alp[n] - h[n - 1] * z[n - 1]) / l[n] \n",
    "c[n+1] = z[n]\n",
    "\n",
    "for j in reversed(range(n)): \n",
    "    c[j] = z[j] - (u[j] * c[j + 1]) \n",
    "    b[j] = (a([j + 1] - a[j]) / h[j]) - (h[j] * (c[j + 1] + 2 * c[j]) / 3) \n",
    "    d[j] = (c[j + 1] - c[j]) / (3 * h[j])\n",
    "\n",
    "print(\"L\",l) \n",
    "print(\"u\",u) \n",
    "print(\"z\",z) \n",
    "print(\"c\",c)\n",
    "\n",
    "for j in range(0, n): \n",
    "    print(\"j= \", j, \" a=\", a, \" b= \", b, \" c= \", c, \" d= \", d) \n",
    "\n",
    "X = symbols('X')\n",
    "\n",
    "for j in range(0,n): \n",
    "    s1 = a[j] + b[j] * (X - x[j]) + c[j] * (X - x[i]) ** 2 + d[j] * (X - x[i]) ** 3 \n",
    "    print(s1)\n",
    "\n",
    "s1 = np.zeros(n)\n",
    "\n",
    "plt.figure() \n",
    "for i in range(0, n): \n",
    "    x = np.linspace(x[i], x[i + 1], 100) \n",
    "    s1 = a[i] + b[i] * (s - x[i]) + c[i] * (s - x[i]) ** 2 + d[i] * (s - x[i]) ** 3 \n",
    "    plt.plot(s, s1, '-ob') \n",
    "    plt.show()\n",
    "\n",
    "\n",
    "    \n",
    "\n",
    "\n",
    "    \n"
   ]
  },
  {
   "cell_type": "code",
   "execution_count": 9,
   "id": "f97b6391",
   "metadata": {},
   "outputs": [
    {
     "data": {
      "image/png": "[encoded data removed]",
      "text/plain": [
       "<Figure size 432x288 with 1 Axes>"
      ]
     },
     "metadata": {
      "needs_background": "light"
     },
     "output_type": "display_data"
    },
    {
     "data": {
      "image/png": "[encoded data removed]",
      "text/plain": [
       "<Figure size 432x288 with 1 Axes>"
      ]
     },
     "metadata": {
      "needs_background": "light"
     },
     "output_type": "display_data"
    }
   ],
   "source": [
    "import numpy as np \n",
    "from scipy.interpolate import CubicSpline\n",
    "import matplotlib.pyplot as plt \n",
    "\n",
    "x=[0.00,1.34,5.00,10.00,10.60,10.70,10.80,11.40,19.60,20.20,20.30,20.40,21.00,26.00,29.66,31.00]\n",
    "y=[0.00,5.00,8.66,10.00,10.40,20.30,30.20,30.60,30.60,30.20,20.30,10.40,10.00,8.66,5.00,0.00]\n",
    "\n",
    "f = CubicSpline(x,y,bc_type='natural')\n",
    "\n",
    "x1=np.linspace(0.00,31.00,100)\n",
    "y1=f(x1)\n",
    "\n",
    "plt.figure(1)\n",
    "plt.plot(x1,y1,'r')\n",
    "plt.show(1)\n",
    "\n",
    "\n",
    "## What happens if you plot the cubicSpline against the given x values, \n",
    " # instead of taking linspace \n",
    "    \n",
    "x2 = [0.00,1.34,5.00,10.00,10.60,10.70,10.80,11.40,19.60,20.20,20.30,20.40,21.00,26.00,29.66,31.00]\n",
    "y2 = f(x2)\n",
    "\n",
    "plt.figure(2)\n",
    "plt.plot(x2,y2,'-ob')\n",
    "plt.show(2)\n",
    "\n",
    "\n",
    "    \n"
   ]
  },
  {
   "cell_type": "code",
   "execution_count": 6,
   "id": "9309aba7",
   "metadata": {},
   "outputs": [
    {
     "data": {
      "image/png": "[encoded data removed]",
      "text/plain": [
       "<Figure size 432x288 with 1 Axes>"
      ]
     },
     "metadata": {
      "needs_background": "light"
     },
     "output_type": "display_data"
    },
    {
     "data": {
      "image/png": "[encoded data removed]",
      "text/plain": [
       "<Figure size 432x288 with 1 Axes>"
      ]
     },
     "metadata": {
      "needs_background": "light"
     },
     "output_type": "display_data"
    }
   ],
   "source": [
    "import numpy as np \n",
    "from scipy.interpolate import CubicSpline\n",
    "import matplotlib.pyplot as plt \n",
    "\n",
    "x=[0,1,2]\n",
    "y=[1,3,5]\n",
    "\n",
    "f = CubicSpline(x,y,bc_type='clamped')\n",
    "\n",
    "x1=np.linspace(0.00,31.00,100)\n",
    "y1=f(x)\n",
    "\n",
    "plt.figure(1)\n",
    "plt.plot(x,y1,'r')\n",
    "plt.show(1)\n",
    "\n",
    "y2= f(x1)\n",
    "\n",
    "plt.figure(2)\n",
    "plt.plot(x1,y2,'r')\n",
    "plt.show(2)"
   ]
  },
  {
   "cell_type": "code",
   "execution_count": null,
   "id": "3d1dddae",
   "metadata": {},
   "outputs": [],
   "source": []
  },
  {
   "cell_type": "code",
   "execution_count": null,
   "id": "9c9d04f0",
   "metadata": {},
   "outputs": [],
   "source": []
  },
  {
   "cell_type": "code",
   "execution_count": null,
   "id": "717dca11",
   "metadata": {},
   "outputs": [],
   "source": []
  },
  {
   "cell_type": "code",
   "execution_count": null,
   "id": "9cfe24ae",
   "metadata": {},
   "outputs": [],
   "source": []
  },
  {
   "cell_type": "code",
   "execution_count": null,
   "id": "e9bc35a8",
   "metadata": {},
   "outputs": [],
   "source": []
  }
 ],
 "metadata": {
  "kernelspec": {
   "display_name": "Python 3 (ipykernel)",
   "language": "python",
   "name": "python3"
  },
  "language_info": {
   "codemirror_mode": {
    "name": "ipython",
    "version": 3
   },
   "file_extension": ".py",
   "mimetype": "text/x-python",
   "name": "python",
   "nbconvert_exporter": "python",
   "pygments_lexer": "ipython3",
   "version": "3.9.12"
  }
 },
 "nbformat": 4,
 "nbformat_minor": 5
}
