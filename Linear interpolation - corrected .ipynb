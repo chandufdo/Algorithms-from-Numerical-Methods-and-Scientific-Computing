{
 "cells": [
  {
   "cell_type": "code",
   "execution_count": 1,
   "id": "327c2a91",
   "metadata": {},
   "outputs": [
    {
     "name": "stdout",
     "output_type": "stream",
     "text": [
      "2.5 , 2.0\n"
     ]
    },
    {
     "data": {
      "image/png": "[encoded data removed]",
      "text/plain": [
       "<Figure size 432x288 with 1 Axes>"
      ]
     },
     "metadata": {
      "needs_background": "light"
     },
     "output_type": "display_data"
    }
   ],
   "source": [
    "from scipy.interpolate import interp1d\n",
    "import matplotlib.pyplot as plt\n",
    "\n",
    "#plt.style.use('seaborn-poster')\n",
    "\n",
    "x = [0, 1, 2]\n",
    "y = [1, 3, 2]\n",
    "\n",
    "f = interp1d(x, y)\n",
    "y_hat = f(1.5)\n",
    "y1_hat = f(0.5)\n",
    "print(y_hat,',',y1_hat)\n",
    "\n",
    "y_new = f(x)\n",
    "\n",
    "#plt.figure(figsize = (10,8))\n",
    "plt.plot(x, y_new, '-ob')\n",
    "plt.plot(1.5, y_hat, 'ro')\n",
    "plt.plot(0.5, y1_hat, 'go')\n",
    "plt.title('Linear Interpolation at x = 1.5 and x=0.5')\n",
    "plt.xlabel('x')\n",
    "plt.ylabel('y')\n",
    "plt.show()"
   ]
  },
  {
   "cell_type": "code",
   "execution_count": null,
   "id": "3a4d4ae6",
   "metadata": {},
   "outputs": [],
   "source": [
    "    "
   ]
  },
  {
   "cell_type": "code",
   "execution_count": 2,
   "id": "3ee883d3",
   "metadata": {},
   "outputs": [
    {
     "name": "stdout",
     "output_type": "stream",
     "text": [
      "i= 0 --> s1=  2*x + 1\n",
      "i= 1 --> s1=  4 - x\n"
     ]
    },
    {
     "data": {
      "image/png": "[encoded data removed]",
      "text/plain": [
       "<Figure size 432x288 with 1 Axes>"
      ]
     },
     "metadata": {
      "needs_background": "light"
     },
     "output_type": "display_data"
    }
   ],
   "source": [
    "import numpy as np \n",
    "from sympy import * \n",
    "#import math \n",
    "#import scipy \n",
    "#import scipy.linalg \n",
    "import matplotlib.pyplot as plt \n",
    "\n",
    "x = symbols('x')\n",
    "\n",
    "x1 = np.array([0,5,7,8,10])\n",
    "y1 = np.array([0,2,-1,-2,20])\n",
    "\n",
    "#x1 = np.array([0,1,2])\n",
    "#y1 = np.array([1,3,2])\n",
    "\n",
    "\n",
    "n=int(len(x1))\n",
    "m=n-1\n",
    "\n",
    "s=[]\n",
    "for i in range(0, m):\n",
    "    s1 = ((y1[i]*(x-x1[i+1]))/(x1[i]-x1[i+1])) + ((y1[i+1]*(x-x1[i]))/(x1[i+1]-x1[i])) \n",
    "    #s1 = (y1[i] * ((y1[i+1]-y1[i]) / (x1[i+1]-x1[i]))) * (x - x1[i])\n",
    "    s.append(s1)\n",
    "    print ('i=',i,'--> s1= ',s1)\n",
    "\n",
    "    \n",
    "#plot s(x)\n",
    "plt.figure()\n",
    "for i in range (0,m):\n",
    "    x=np.linspace(x1[i],x1[i+1], 100)\n",
    "    s1 = ((y1[i]*(x-x1[i+1]))/(x1[i]-x1[i+1])) + ((y1[i+1]*(x-x1[i]))/(x1[i+1]-x1[i])) \n",
    "    #s1 = (y1[i] * ((y1[i+1]-y1[i]) / (x1[i+1]-x1[i]))) * (x - x1[i])\n",
    "    plt.plot(x, s1, 'r')\n",
    "plt.show()\n",
    "    \n",
    "    \n"
   ]
  },
  {
   "cell_type": "code",
   "execution_count": null,
   "id": "06d43e4d",
   "metadata": {},
   "outputs": [],
   "source": []
  },
  {
   "cell_type": "code",
   "execution_count": 1,
   "id": "360079da",
   "metadata": {},
   "outputs": [
    {
     "name": "stdout",
     "output_type": "stream",
     "text": [
      "\n",
      "s(x) equals to \n",
      " 22.704*x  in [0.0,10.0] subinterval\n",
      "\n",
      "s(x) equals to \n",
      " 27.148*x - 44.44  in [10.0,15.0] subinterval\n",
      "\n",
      "s(x) equals to \n",
      " 30.914*x - 100.93  in [15.0,20.0] subinterval\n",
      "\n",
      "s(x) equals to \n",
      " 34.248*x - 167.61  in [20.0,22.5] subinterval\n",
      "\n",
      "s(x) equals to \n",
      " 39.8266666666667*x - 293.13  in [22.5,30.0] subinterval\n",
      "\n",
      "Enter the x value: 12\n",
      "s(x) value at the point 12.0 is 281.336\n"
     ]
    }
   ],
   "source": [
    "from sympy import *\n",
    "import math\n",
    "import numpy as np\n",
    "x=symbols('x')\n",
    "\n",
    "x1=np.array([0,10,15,20,22.5,30])\n",
    "y1=np.array([0,227.04,362.78,517.35,602.97,901.67])\n",
    "\n",
    "n=int(len(x1)) #number of data points\n",
    "m=n-1  # num of subintervals\n",
    "\n",
    "for i in range (0,m):\n",
    "    s = y1[i]  + (y1[i+1] - y1[i]) * (x-x1[i])/(x1[i+1]-x1[i])\n",
    "    print('\\ns(x) equals to \\n',s,' in [%.1f,%.1f] subinterval' % (x1[i],x1[i+1]))\n",
    "\n",
    "x = float(input('\\nEnter the x value: '))\n",
    "for i in range (0,m):\n",
    "    if x in np.arange(x1[i],x1[i+1]):\n",
    "        f_x= y1[i]  + (y1[i+1] - y1[i]) * (x-x1[i])/(x1[i+1]-x1[i])\n",
    "        print('s(x) value at the point %.1f is %.3f' %(x,f_x))\n",
    "\n",
    "\n",
    "\n",
    "\n",
    "\n",
    "\n"
   ]
  },
  {
   "cell_type": "code",
   "execution_count": null,
   "id": "90f983ad",
   "metadata": {},
   "outputs": [],
   "source": []
  },
  {
   "cell_type": "code",
   "execution_count": null,
   "id": "396498ac",
   "metadata": {},
   "outputs": [],
   "source": []
  },
  {
   "cell_type": "code",
   "execution_count": null,
   "id": "287929da",
   "metadata": {},
   "outputs": [],
   "source": [
    "\n"
   ]
  },
  {
   "cell_type": "code",
   "execution_count": null,
   "id": "d9eb87a8",
   "metadata": {},
   "outputs": [],
   "source": []
  },
  {
   "cell_type": "code",
   "execution_count": null,
   "id": "68a885d5",
   "metadata": {},
   "outputs": [],
   "source": []
  },
  {
   "cell_type": "code",
   "execution_count": null,
   "id": "427881a5",
   "metadata": {},
   "outputs": [],
   "source": []
  },
  {
   "cell_type": "code",
   "execution_count": null,
   "id": "d90dc564",
   "metadata": {},
   "outputs": [],
   "source": []
  }
 ],
 "metadata": {
  "kernelspec": {
   "display_name": "Python 3 (ipykernel)",
   "language": "python",
   "name": "python3"
  },
  "language_info": {
   "codemirror_mode": {
    "name": "ipython",
    "version": 3
   },
   "file_extension": ".py",
   "mimetype": "text/x-python",
   "name": "python",
   "nbconvert_exporter": "python",
   "pygments_lexer": "ipython3",
   "version": "3.9.12"
  }
 },
 "nbformat": 4,
 "nbformat_minor": 5
}
