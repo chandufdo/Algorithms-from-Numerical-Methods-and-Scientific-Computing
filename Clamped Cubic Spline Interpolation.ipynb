{
 "cells": [
  {
   "cell_type": "code",
   "execution_count": 2,
   "id": "80dcc407",
   "metadata": {},
   "outputs": [
    {
     "data": {
      "text/plain": [
       "array([[-0.75],\n",
       "       [ 0.  ],\n",
       "       [ 2.75],\n",
       "       [ 1.  ],\n",
       "       [ 0.75],\n",
       "       [-4.5 ],\n",
       "       [ 7.25],\n",
       "       [-0.5 ]])"
      ]
     },
     "execution_count": 2,
     "metadata": {},
     "output_type": "execute_result"
    }
   ],
   "source": [
    "## Example on my short note \n",
    "\n",
    "import numpy as np\n",
    "b = np.array([1, 3, 3, 2, 0, 0, 0, 0])\n",
    "b = b[:, np.newaxis]\n",
    "A = np.array([[0, 0, 0, 1, 0, 0, 0, 0], [0, 0, 0, 0, 1, 1, 1, 1], [1, 1, 1, 1, 0, 0, 0, 0], \\\n",
    "             [0, 0, 0, 0, 8, 4, 2, 1], [3, 2, 1, 0, -3, -2, -1, 0], [6, 2, 0, 0, -6, -2, 0, 0],\\\n",
    "             [0, 2, 0, 0, 0, 0, 0, 0], [0, 0, 0, 0, 12, 2, 0, 0]])\n",
    "\n",
    "np.dot(np.linalg.inv(A), b)"
   ]
  },
  {
   "cell_type": "code",
   "execution_count": 3,
   "id": "4aaedcbc",
   "metadata": {},
   "outputs": [
    {
     "data": {
      "text/plain": [
       "array([[0.00000000e+00],\n",
       "       [0.00000000e+00],\n",
       "       [1.00000000e+00],\n",
       "       [2.77555756e-17],\n",
       "       [0.00000000e+00],\n",
       "       [0.00000000e+00],\n",
       "       [1.00000000e+00],\n",
       "       [0.00000000e+00]])"
      ]
     },
     "execution_count": 3,
     "metadata": {},
     "output_type": "execute_result"
    }
   ],
   "source": [
    "## TUTE 5 - Question 4 \n",
    "\n",
    "import numpy as np\n",
    "b = np.array([0, 1, 1, 2, 0, 0, 1, 1])\n",
    "b = b[:, np.newaxis]\n",
    "A = np.array([[0, 0, 0, 1, 0, 0, 0, 0], [1, 1, 1, 1, 0, 0, 0, 0], [0, 0, 0, 0, 1, 1, 1, 1],\\\n",
    "             [0, 0, 0, 0, 8, 4, 2, 1], [3, 2, 1, 0, -3, -2, -1, 0], [6, 2, 0, 0, -6, -2, 0, 0],\\\n",
    "             [0, 0, 1, 0, 0, 0, 0, 0], [0, 0, 0, 0, 0, 0, 1, 0]])\n",
    "\n",
    "np.dot(np.linalg.inv(A), b)"
   ]
  },
  {
   "cell_type": "code",
   "execution_count": null,
   "id": "b4433122",
   "metadata": {},
   "outputs": [],
   "source": [
    "import numpy as np \n",
    "import sympy as sym \n",
    "a,b,d,c,e,f,g,h,p=sym.symbols(\"a,b,d,c,e,f,g,h,p\")\n",
    "\n",
    "\n",
    "x=np.zeros((n))\n",
    "y=np.zeros((n))\n",
    "\n",
    "s0=[]\n",
    "s1=[]\n",
    "ds0=[]\n",
    "ds1=[]\n",
    "dds0=[]\n",
    "dds1=[]\n",
    "\n",
    "print('Enter data for x and y: ')\n",
    "for i in range (n):\n",
    "    x[i]=float(input( 'x[]'+str(i)+']='))\n",
    "    y[i]=float(input( 'y[]'+str(i)+']='))\n",
    "    \n",
    "def first():\n",
    "    for in range(n):\n",
    "        l=a+b*(x[i]-x[0])+c*(x[i]-x[0])**2+d*(x[i]-x[0])**3\n",
    "        m=b+2*c*(x[i]-x[0])+3*d*(x[i]-x[0])**2\n",
    "        dm=2*c+6*d*(x[i]-x[0])\n",
    "        s0.append(l)\n",
    "        ds0.append(m)\n",
    "        dds0.append(dm)\n",
    "    print(s0)\n",
    "    print(ds0)\n",
    "    print(dds0)\n",
    "first()\n",
    "\n",
    "def sec():\n",
    "    for in\n"
   ]
  },
  {
   "cell_type": "code",
   "execution_count": null,
   "id": "18db7168",
   "metadata": {},
   "outputs": [],
   "source": []
  },
  {
   "cell_type": "code",
   "execution_count": null,
   "id": "f0f18a91",
   "metadata": {},
   "outputs": [],
   "source": []
  },
  {
   "cell_type": "code",
   "execution_count": null,
   "id": "49b110ca",
   "metadata": {},
   "outputs": [],
   "source": []
  },
  {
   "cell_type": "code",
   "execution_count": null,
   "id": "f88b0009",
   "metadata": {},
   "outputs": [],
   "source": []
  },
  {
   "cell_type": "code",
   "execution_count": null,
   "id": "9c128985",
   "metadata": {},
   "outputs": [],
   "source": []
  },
  {
   "cell_type": "code",
   "execution_count": null,
   "id": "74b27e56",
   "metadata": {},
   "outputs": [],
   "source": []
  },
  {
   "cell_type": "code",
   "execution_count": null,
   "id": "1b1f5c9d",
   "metadata": {},
   "outputs": [],
   "source": []
  },
  {
   "cell_type": "code",
   "execution_count": null,
   "id": "c74c3acf",
   "metadata": {},
   "outputs": [],
   "source": []
  },
  {
   "cell_type": "code",
   "execution_count": null,
   "id": "f9666175",
   "metadata": {},
   "outputs": [],
   "source": []
  }
 ],
 "metadata": {
  "kernelspec": {
   "display_name": "Python 3 (ipykernel)",
   "language": "python",
   "name": "python3"
  },
  "language_info": {
   "codemirror_mode": {
    "name": "ipython",
    "version": 3
   },
   "file_extension": ".py",
   "mimetype": "text/x-python",
   "name": "python",
   "nbconvert_exporter": "python",
   "pygments_lexer": "ipython3",
   "version": "3.9.12"
  }
 },
 "nbformat": 4,
 "nbformat_minor": 5
}
