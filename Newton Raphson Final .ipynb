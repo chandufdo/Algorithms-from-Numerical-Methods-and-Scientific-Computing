{
 "cells": [
  {
   "cell_type": "code",
   "execution_count": 1,
   "id": "81d2a5a7",
   "metadata": {},
   "outputs": [
    {
     "name": "stdout",
     "output_type": "stream",
     "text": [
      "Enter starting value (x0): 0\n",
      "Enter precision value: 1\n",
      "Maximum no. of Iterations:  10\n",
      "Iteration =  1 x1 =  -1.0 f(x1) =  -1.0\n",
      "Root =  -1.0\n"
     ]
    }
   ],
   "source": [
    "##     ** Submission for Tute 2 : Q 2 **      \n",
    "\n",
    "\n",
    "def f(x):\n",
    "    return x**3 - x - 1\n",
    "def g(x):\n",
    "    return 3*x**2 - 1\n",
    "\n",
    "def newtonRaphson(x0,e,N):\n",
    "    i = 1\n",
    "    condtition_N = 1\n",
    "    condition_e = True\n",
    "    \n",
    "    while condition_e:\n",
    "        if g(x0) == 0.0:\n",
    "            print('Divide by zero error!')\n",
    "            break\n",
    "        x1 = x0 - f(x0)/g(x0)\n",
    "        print(\"Iteration = \",i,\"x1 = \",x1,\"f(x1) = \", f(x1))\n",
    "        x0 = x1\n",
    "        i = i + 1\n",
    "        \n",
    "        if i > N:\n",
    "            condition_N = 0\n",
    "            break\n",
    "        condition_e = abs(f(x1)) > e\n",
    "    \n",
    "    if condtition_N==1:\n",
    "        print(\"Root = \",x1)\n",
    "    else:\n",
    "        print(\"Not convergent for given starting value. Please try again with a different starting value. \")\n",
    "\n",
    "x0 = float(input('Enter starting value (x0): '))\n",
    "e = float(input('Enter precision value: '))\n",
    "N = int(input('Maximum no. of Iterations:  '))\n",
    "\n",
    "newtonRaphson(x0,e,N)\n",
    "\n"
   ]
  },
  {
   "cell_type": "code",
   "execution_count": 2,
   "id": "6021b803",
   "metadata": {},
   "outputs": [
    {
     "name": "stdout",
     "output_type": "stream",
     "text": [
      "Enter Guess: 1.5\n",
      "Tolerable Error: 0.0001\n",
      "Maximum Step: 50\n",
      "\n",
      "\n",
      "*** NEWTON RAPHSON METHOD IMPLEMENTATION ***\n",
      "Iteration-1, x1 = 9.000000 and f(x1) = 675.000000\n",
      "Iteration-2, x1 = 6.163866 and f(x1) = 194.365886\n",
      "Iteration-3, x1 = 4.380360 and f(x1) = 53.146613\n",
      "Iteration-4, x1 = 3.369251 and f(x1) = 12.400983\n",
      "Iteration-5, x1 = 2.942448 and f(x1) = 1.763485\n",
      "Iteration-6, x1 = 2.858369 and f(x1) = 0.061809\n",
      "Iteration-7, x1 = 2.855201 and f(x1) = 0.000086\n",
      "\n",
      "Required root is: 2.85520096\n"
     ]
    }
   ],
   "source": [
    "\n",
    "## ** CODE FOR NEWTON RAPHSON METHOD ** \n",
    "\n",
    "\n",
    "\n",
    "# Defining Function\n",
    "def f(x):\n",
    "    return x**3 - 5*x - 9\n",
    "\n",
    "# Defining derivative of function\n",
    "def g(x):\n",
    "    return 3*x**2 - 5\n",
    "\n",
    "# Implementing Newton Raphson Method\n",
    "\n",
    "def newtonRaphson(x0,e,N):\n",
    "    print('\\n\\n*** NEWTON RAPHSON METHOD IMPLEMENTATION ***')\n",
    "    step = 1\n",
    "    flag = 1\n",
    "    condition = True\n",
    "    while condition:\n",
    "        if g(x0) == 0.0:\n",
    "            print('Divide by zero error!')\n",
    "            break\n",
    "        \n",
    "        x1 = x0 - f(x0)/g(x0)\n",
    "        print('Iteration-%d, x1 = %0.6f and f(x1) = %0.6f' % (step, x1, f(x1)))\n",
    "        x0 = x1\n",
    "        step = step + 1\n",
    "        \n",
    "        if step > N:\n",
    "            flag = 0\n",
    "            break\n",
    "        \n",
    "        condition = abs(f(x1)) > e\n",
    "    \n",
    "    if flag==1:\n",
    "        print('\\nRequired root is: %0.8f' % x1)\n",
    "    else:\n",
    "        print('\\nNot Convergent.')\n",
    "\n",
    "\n",
    "# Input Section\n",
    "x0 = input('Enter Guess: ')\n",
    "e = input('Tolerable Error: ')\n",
    "N = input('Maximum Step: ')\n",
    "\n",
    "# Converting x0 and e to float\n",
    "x0 = float(x0)\n",
    "e = float(e)\n",
    "\n",
    "# Converting N to integer\n",
    "N = int(N)\n",
    "\n",
    "\n",
    "#Note: You can combine above three section like this\n",
    "# x0 = float(input('Enter Guess: '))\n",
    "# e = float(input('Tolerable Error: '))\n",
    "# N = int(input('Maximum Step: '))\n",
    "\n",
    "# Starting Newton Raphson Method\n",
    "newtonRaphson(x0,e,N)"
   ]
  },
  {
   "cell_type": "code",
   "execution_count": 1,
   "id": "e5f4ad06",
   "metadata": {},
   "outputs": [
    {
     "name": "stdout",
     "output_type": "stream",
     "text": [
      "newton_raphson = 1.4142857142857144\n",
      "sqrt(2) = 1.4142135623730951\n",
      "estimate = 1.4142135623746899\n",
      "sqrt(2) = 1.4142135623730951\n"
     ]
    }
   ],
   "source": [
    "import numpy as np\n",
    "\n",
    "f = lambda x: x**2 - 2\n",
    "f_prime = lambda x: 2*x\n",
    "newton_raphson = 1.4 - (f(1.4))/(f_prime(1.4))\n",
    "\n",
    "print(\"newton_raphson =\", newton_raphson)\n",
    "print(\"sqrt(2) =\", np.sqrt(2))\n",
    "\n",
    "def my_newton(f, df, x0, tol):\n",
    "    # output is an estimation of the root of f \n",
    "    # using the Newton Raphson method\n",
    "    # recursive implementation\n",
    "    if abs(f(x0)) < tol:\n",
    "        return x0\n",
    "    else:\n",
    "        return my_newton(f, df, x0 - f(x0)/df(x0), tol)\n",
    "    \n",
    "estimate = my_newton(f, f_prime, 1.5, 1e-6)\n",
    "print(\"estimate =\", estimate)\n",
    "print(\"sqrt(2) =\", np.sqrt(2))"
   ]
  },
  {
   "cell_type": "code",
   "execution_count": null,
   "id": "2468709b",
   "metadata": {},
   "outputs": [],
   "source": []
  },
  {
   "cell_type": "code",
   "execution_count": null,
   "id": "7c1e64f5",
   "metadata": {},
   "outputs": [],
   "source": []
  },
  {
   "cell_type": "code",
   "execution_count": null,
   "id": "3f45a759",
   "metadata": {},
   "outputs": [],
   "source": [
    "\n"
   ]
  },
  {
   "cell_type": "code",
   "execution_count": null,
   "id": "4f6f5d11",
   "metadata": {},
   "outputs": [],
   "source": []
  },
  {
   "cell_type": "code",
   "execution_count": null,
   "id": "34681d1f",
   "metadata": {},
   "outputs": [],
   "source": [
    "\n"
   ]
  }
 ],
 "metadata": {
  "kernelspec": {
   "display_name": "Python 3 (ipykernel)",
   "language": "python",
   "name": "python3"
  },
  "language_info": {
   "codemirror_mode": {
    "name": "ipython",
    "version": 3
   },
   "file_extension": ".py",
   "mimetype": "text/x-python",
   "name": "python",
   "nbconvert_exporter": "python",
   "pygments_lexer": "ipython3",
   "version": "3.9.12"
  }
 },
 "nbformat": 4,
 "nbformat_minor": 5
}
