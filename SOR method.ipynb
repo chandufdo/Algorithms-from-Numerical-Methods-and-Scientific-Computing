{
 "cells": [
  {
   "cell_type": "code",
   "execution_count": null,
   "id": "321e9e30",
   "metadata": {},
   "outputs": [],
   "source": [
    "## ** SOR METHOD ** ##\n",
    "\n",
    "import numpy as np\n",
    "\n",
    "A = np.array([[10,2,-1], [1,8,3],[-2,-1,10]])                   # coefficient matrix\n",
    "B = np.array([[7], [-4],[9]])\n",
    "X0 = np.zeros((len(A)))                           # initial approximation\n",
    "N = 11                                            # number of iterations\n",
    "tol = 0.001                                       # tolerence\n",
    "w = 1.25                                          # relaxation factor\n",
    "\n",
    "\n",
    "def SOR(A, B, X0, N, tol, w):\n",
    "\n",
    "    D = np.diag(np.diag(A))                       # diagonal matrix\n",
    "    L = np.tril(A, -1) * -1                       # lower traingular matrix    \n",
    "    U = np.triu(A, 1) * -1                        # upper traingular matrix\n",
    "    wL= w*L                                       # L times relaxation factor\n",
    "    wU= w*U                                       # U times relaxation factor\n",
    "    RD= (1-w)*D                                   # (1-w) times Diagonal matrix\n",
    "    t2= RD + wU                                   # [(1-w)D +wU] matrix\n",
    "    X0 = np.zeros((len(A)))                       # initial approximation\n",
    "    DLinv = np.linalg.inv((D-wL))                 # inverse of the [D-L] matrix\n",
    "    wDLinv = w*DLinv                              # inverse of the [D-L] matrix\n",
    "\n",
    "\n",
    "    T = np.matmul(DLinv, t2)\n",
    "    C = np.matmul(wDLinv, B)\n",
    "\n",
    "    i = 1\n",
    "\n",
    "    for i in range(N):\n",
    "        X1 = np.matmul(T, X0) + C\n",
    "\n",
    "        if np.any(abs(X1-X0)) < tol:\n",
    "            break\n",
    "\n",
    "        else:\n",
    "            i += 1\n",
    "            X0 = X1\n",
    "\n",
    "        print(\"Iteration - %d , x = %0.12f , y = %0.12f , z = %0.12f     \" %(i, X1[0, 0], X1[1, 0] ,X1[2, 0]))\n",
    "        #print(i,X0,X1)\n",
    "\n",
    "    print(\"\\nSolution by SOR method : x = %0.3f , y = %0.3f , z = %0.3f   \" %(X1[0, 0], X1[1, 0], X1[2, 0]))\n",
    "\n",
    "SOR(A, B, X0, N, tol, w)"
   ]
  }
 ],
 "metadata": {
  "kernelspec": {
   "display_name": "Python 3 (ipykernel)",
   "language": "python",
   "name": "python3"
  },
  "language_info": {
   "codemirror_mode": {
    "name": "ipython",
    "version": 3
   },
   "file_extension": ".py",
   "mimetype": "text/x-python",
   "name": "python",
   "nbconvert_exporter": "python",
   "pygments_lexer": "ipython3",
   "version": "3.9.12"
  }
 },
 "nbformat": 4,
 "nbformat_minor": 5
}
