{
 "cells": [
  {
   "cell_type": "code",
   "execution_count": null,
   "id": "45e014b5",
   "metadata": {},
   "outputs": [],
   "source": [
    "# simpson's rule for functions such as sin(x) between 0 and pi \n",
    "# calculate error \n",
    "# draw graph \n",
    "\n",
    "import numpy as np\n",
    "\n",
    "a = 0\n",
    "b = np.pi\n",
    "n = 11\n",
    "h = (b - a) / (n - 1)\n",
    "x = np.linspace(a, b, n)\n",
    "f = np.sin(x)\n",
    "\n",
    "I_simp = (h/3) * (f[0] + 2*sum(f[:n-2:2]) + 4*sum(f[1:n-1:2]) + f[n-1])\n",
    "err_simp = 2 - I_simp\n",
    "\n",
    "print(I_simp)\n",
    "print(err_simp)\n"
   ]
  },
  {
   "cell_type": "code",
   "execution_count": 2,
   "id": "a783063a",
   "metadata": {},
   "outputs": [
    {
     "name": "stdout",
     "output_type": "stream",
     "text": [
      "Enter lower limit of integration: 3\n",
      "Enter upper limit of integration: 6\n",
      "Enter number of sub intervals + 1: 11\n",
      "0.17660429599518662\n",
      "1.8233957040048134\n"
     ]
    },
    {
     "data": {
      "image/png": "[encoded data removed]",
      "text/plain": [
       "<Figure size 432x288 with 1 Axes>"
      ]
     },
     "metadata": {
      "needs_background": "light"
     },
     "output_type": "display_data"
    }
   ],
   "source": [
    "# simpson's rule input values \n",
    "# calculate error \n",
    "# draw graph \n",
    "\n",
    "import numpy as np\n",
    "import matplotlib.pyplot as plt \n",
    "\n",
    "a = float(input(\"Enter lower limit of integration: \"))\n",
    "b = float(input(\"Enter upper limit of integration: \"))\n",
    "n = int(input(\"Enter number of sub intervals + 1: \"))\n",
    "\n",
    "h = (b - a) / (n - 1)\n",
    "x = np.linspace(a, b, n)\n",
    "f = 1/(1 + x**2)\n",
    "\n",
    "I_simp = (h/3) * (f[0] + 2*sum(f[:n-2:2]) + 4*sum(f[1:n-1:2]) + f[n-1])\n",
    "err_simp = 2 - I_simp\n",
    "\n",
    "print(I_simp)\n",
    "print(err_simp)\n",
    "\n",
    "plt.figure()\n",
    "plt.plot(x,f,'-ob')\n",
    "plt.show()\n",
    "\n"
   ]
  },
  {
   "cell_type": "code",
   "execution_count": 3,
   "id": "df955e4d",
   "metadata": {},
   "outputs": [
    {
     "name": "stdout",
     "output_type": "stream",
     "text": [
      "Enter number of datapoints: 5\n",
      "Enter data for x and y: \n",
      "x[0]=1.8\n",
      "y[0]=3.12014\n",
      "x[1]=2.0\n",
      "y[1]=4.42569\n",
      "x[2]=2.2\n",
      "y[2]=6.04241\n",
      "x[3]=2.4\n",
      "y[3]=8.03014\n",
      "x[4]=2.6\n",
      "y[4]=10.46675\n",
      "Enter lower limit of integration: 1.8\n",
      "Enter upper limit of integration: 2.6\n",
      "Value of integral=  5.449020666666667\n"
     ]
    }
   ],
   "source": [
    "## Simpson's rule for given data set \n",
    "\n",
    "import numpy as np\n",
    "import matplotlib.pyplot as plt\n",
    "\n",
    "n = int(input(\"Enter number of datapoints: \"))\n",
    "\n",
    "x=np.zeros(n)\n",
    "y=np.zeros(n)    #y=f(x)\n",
    "\n",
    "print('Enter data for x and y: ')\n",
    "for i in range(n):\n",
    "    x[i] = float(input( 'x['+str(i)+']='))              # Enter data for x\n",
    "    y[i] = float(input( 'y['+str(i)+']='))              # Enter data for y=f(x) \n",
    "\n",
    "a = float(input(\"Enter lower limit of integration: \"))\n",
    "b = float(input(\"Enter upper limit of integration: \"))\n",
    "\n",
    "h = (b - a) / (n - 1)\n",
    "\n",
    "I_simp = (h/3) * (y[0] + 2*sum(y[:n-2:2]) + 4*sum(y[1:n-1:2]) + y[n-1])\n",
    "\n",
    "print(\"Value of integral= \",I_simp)\n"
   ]
  },
  {
   "cell_type": "code",
   "execution_count": null,
   "id": "03e9988d",
   "metadata": {},
   "outputs": [],
   "source": [
    "Enter number of sub intervals: 5\n",
    "Enter data for x and y: \n",
    "x[0]=1.8\n",
    "y[0]=3.12014\n",
    "x[1]=2.0\n",
    "y[1]=4.42569\n",
    "x[2]=2.2\n",
    "y[2]=6.04241\n",
    "x[3]=2.4\n",
    "y[3]=8.03014\n",
    "x[4]=2.6\n",
    "y[4]=10.46675\n",
    "Enter lower limit of integration: 1.8\n",
    "Enter upper limit of integration: 2.6\n",
    "Value of Integral=  5.058337\n",
    "\n",
    "\n",
    "\n"
   ]
  },
  {
   "cell_type": "code",
   "execution_count": null,
   "id": "62a07438",
   "metadata": {},
   "outputs": [],
   "source": []
  },
  {
   "cell_type": "code",
   "execution_count": null,
   "id": "f1cd495c",
   "metadata": {},
   "outputs": [],
   "source": []
  },
  {
   "cell_type": "code",
   "execution_count": null,
   "id": "f69d543c",
   "metadata": {},
   "outputs": [],
   "source": [
    "\n",
    "\n",
    "\n"
   ]
  },
  {
   "cell_type": "code",
   "execution_count": null,
   "id": "8cb0eeb0",
   "metadata": {},
   "outputs": [],
   "source": []
  },
  {
   "cell_type": "code",
   "execution_count": null,
   "id": "06ae0f29",
   "metadata": {},
   "outputs": [],
   "source": []
  },
  {
   "cell_type": "code",
   "execution_count": null,
   "id": "cbf89792",
   "metadata": {},
   "outputs": [],
   "source": []
  },
  {
   "cell_type": "code",
   "execution_count": null,
   "id": "96f4200c",
   "metadata": {},
   "outputs": [],
   "source": []
  },
  {
   "cell_type": "code",
   "execution_count": null,
   "id": "6d244eaf",
   "metadata": {},
   "outputs": [],
   "source": [
    "\n",
    "\n"
   ]
  },
  {
   "cell_type": "code",
   "execution_count": null,
   "id": "3080bca5",
   "metadata": {},
   "outputs": [],
   "source": []
  },
  {
   "cell_type": "code",
   "execution_count": null,
   "id": "a97b71e8",
   "metadata": {},
   "outputs": [],
   "source": []
  },
  {
   "cell_type": "code",
   "execution_count": null,
   "id": "473f481d",
   "metadata": {},
   "outputs": [],
   "source": []
  },
  {
   "cell_type": "code",
   "execution_count": null,
   "id": "d09d73d2",
   "metadata": {},
   "outputs": [],
   "source": []
  },
  {
   "cell_type": "code",
   "execution_count": null,
   "id": "267c426b",
   "metadata": {},
   "outputs": [],
   "source": [
    "\n"
   ]
  },
  {
   "cell_type": "code",
   "execution_count": null,
   "id": "91c6692c",
   "metadata": {},
   "outputs": [],
   "source": []
  }
 ],
 "metadata": {
  "kernelspec": {
   "display_name": "Python 3 (ipykernel)",
   "language": "python",
   "name": "python3"
  },
  "language_info": {
   "codemirror_mode": {
    "name": "ipython",
    "version": 3
   },
   "file_extension": ".py",
   "mimetype": "text/x-python",
   "name": "python",
   "nbconvert_exporter": "python",
   "pygments_lexer": "ipython3",
   "version": "3.9.12"
  }
 },
 "nbformat": 4,
 "nbformat_minor": 5
}
