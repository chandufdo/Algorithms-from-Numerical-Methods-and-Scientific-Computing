{
 "cells": [
  {
   "cell_type": "code",
   "execution_count": null,
   "id": "d206509d",
   "metadata": {},
   "outputs": [],
   "source": [
    "# 5-point mid point formula \n",
    "# need 5 points \n",
    "\n",
    "# for given example f(x)=x.e^x \n",
    "# to find at f'(2.0) when f values at 1.8,1.9,2.0,2.1,2.2 are given\n",
    "\n",
    "x2=float(input(\"Enter the derivative point = \"))\n",
    "h=float(input(\"Enter the value for h= \"))\n",
    "\n",
    "# here x0,x1,x2,x3,x4 are the 1st,2nd,3rd,4th,5th points\n",
    "\n",
    "x0=x2-2*h  # 1st point\n",
    "x1=x2-h    # 2nd point\n",
    "x3=x2+h    # 3rd point\n",
    "x4=x2+2*h  # 4th point\n",
    "\n",
    "y0=float(input(\"f(\"+str(x0)+\")= \"))\n",
    "y1=float(input(\"f(\"+str(x1)+\")= \"))\n",
    "y3=float(input(\"f(\"+str(x3)+\")= \"))\n",
    "y4=float(input(\"f(\"+str(x4)+\")= \"))\n",
    "\n",
    "derv = (y0 - (8*y1) + (8*y3) - y4)/(12*h)\n",
    "\n",
    "print(\"Approximate value at \"+str(x2)+\" is \"+str(derv))"
   ]
  },
  {
   "cell_type": "code",
   "execution_count": 1,
   "id": "5247f057",
   "metadata": {},
   "outputs": [
    {
     "name": "stdout",
     "output_type": "stream",
     "text": [
      "Enter the derivative point = 2.2 \n",
      "Enter the value for h= -0.1\n",
      "f(2.2)= 19.85030\n",
      "f(2.1)= 17.148957\n",
      "f(2.0)= 14.778112\n",
      "f(1.9000000000000001)= 12.703199\n",
      "f(1.8000000000000003)= 10.889365\n",
      "Approximate value at 2.2 is 28.780422499999954\n"
     ]
    }
   ],
   "source": [
    "# 5-point end point formula \n",
    "\n",
    "# need to be able to twist it according to the question \n",
    "\n",
    "# for given example f(x)=x.e^x \n",
    "# to find at f'(1.8) when f values at 1.8,1.9,2.0,2.1,2.2 are given\n",
    "\n",
    "x0=float(input(\"Enter the derivative point = \"))\n",
    "h=float(input(\"Enter the value for h= \"))\n",
    "\n",
    "x1=x0 + h*1    # 1st point\n",
    "x2=x0 + 2*h    # 2nd point\n",
    "x3=x0 + 3*h    # 3rd point\n",
    "x4=x0 + 4*h    # 4th point\n",
    "\n",
    "y0=float(input(\"f(\"+str(x0)+\")= \"))\n",
    "y1=float(input(\"f(\"+str(x1)+\")= \"))\n",
    "y2=float(input(\"f(\"+str(x2)+\")= \"))\n",
    "y3=float(input(\"f(\"+str(x3)+\")= \"))\n",
    "y4=float(input(\"f(\"+str(x4)+\")= \"))\n",
    "\n",
    "derv = ((-25*y0) + (48*y1) - (36*y2) + (16*y3) - (3*y4))/(12*h)\n",
    "\n",
    "\n",
    "print(\"Approximate value at \"+str(x0)+\" is \"+str(derv))\n"
   ]
  },
  {
   "cell_type": "code",
   "execution_count": null,
   "id": "dbfb3189",
   "metadata": {},
   "outputs": [],
   "source": [
    "# 3 point mid-point formula \n",
    "\n",
    "# to find f'(2.0) for f(x)=x.e^x with h=0.2\n",
    "# when f values at 1.8,1.9,2.0,2.1,2.2 are given\n",
    "\n",
    "x1=float(input(\"Enter the derivative point = \"))\n",
    "h=float(input(\"Enter the value for h= \"))\n",
    "\n",
    "x0=x1-h    # 1st point\n",
    "x2=x1+h    # 3rd point\n",
    "\n",
    "y0=float(input(\"f(\"+str(x0)+\")= \"))\n",
    "y2=float(input(\"f(\"+str(x2)+\")= \"))\n",
    "\n",
    "derv = (y2 - y0)/(2*h)\n",
    "\n",
    "print(\"Approximate value at \"+str(x1)+\" is \"+str(derv))\n"
   ]
  },
  {
   "cell_type": "code",
   "execution_count": null,
   "id": "1fd1052d",
   "metadata": {},
   "outputs": [],
   "source": [
    "# 3 point end point formula \n",
    "\n",
    "# to find f'(2.0) for f(x)=x.e^x when f values at 2.1 and 2.2 are known\n",
    "\n",
    "x0=float(input(\"Enter the derivative point = \"))\n",
    "h=float(input(\"Enter the value for h= \"))\n",
    "\n",
    "x1=x1+h      # 2nd point\n",
    "x2=x1+2*h    # 3rd point\n",
    "\n",
    "y0=float(input(\"f(\"+str(x0)+\")= \"))\n",
    "y1=float(input(\"f(\"+str(x1)+\")= \"))\n",
    "y2=float(input(\"f(\"+str(x2)+\")= \"))\n",
    "\n",
    "derv = ((-3*y0) + (4*y1) - y2)/(2*h)\n",
    "\n",
    "print(\"Approximate value at \"+str(x0)+\" is \"+str(derv))"
   ]
  },
  {
   "cell_type": "code",
   "execution_count": null,
   "id": "f9af7deb",
   "metadata": {},
   "outputs": [
    {
     "name": "stdout",
     "output_type": "stream",
     "text": [
      "Enter the derivative point = 2.0\n",
      "Enter the value for h= 0.1\n",
      "99.99999999999999\n"
     ]
    }
   ],
   "source": [
    "## second derivative \n",
    "# second derivative midpoint formula \n",
    "\n",
    "x1=float(input(\"Enter the derivative point = \"))\n",
    "h=float(input(\"Enter the value for h= \"))\n",
    "\n",
    "x0=x1 - h    # 1st point\n",
    "x2=x1 + h    # 3rd point\n",
    "\n",
    "print(1/h**2)\n",
    "\n",
    "y0=float(input(\"f(\"+str(x0)+\")= \"))\n",
    "y1=float(input(\"f(\"+str(x1)+\")= \"))\n",
    "y2=float(input(\"f(\"+str(x2)+\")= \"))\n",
    "\n",
    "#second_derv = \n",
    "\n",
    "#print(\"Approximate value at \"+str(x1)+\" is \"+str(second_derv))"
   ]
  },
  {
   "cell_type": "code",
   "execution_count": null,
   "id": "2db000b3",
   "metadata": {},
   "outputs": [],
   "source": [
    "f(1.9)= 12.703199\n",
    "f(2.0)= 14.778112\n",
    "f(2.1)= 17.48957\n",
    "\n",
    "\n",
    " (y0 - (2*y1) + y2)/h**2"
   ]
  },
  {
   "cell_type": "code",
   "execution_count": null,
   "id": "037de2b2",
   "metadata": {},
   "outputs": [],
   "source": []
  },
  {
   "cell_type": "code",
   "execution_count": null,
   "id": "74840bba",
   "metadata": {},
   "outputs": [],
   "source": []
  },
  {
   "cell_type": "code",
   "execution_count": null,
   "id": "03803069",
   "metadata": {},
   "outputs": [],
   "source": []
  },
  {
   "cell_type": "code",
   "execution_count": null,
   "id": "c4892f44",
   "metadata": {},
   "outputs": [],
   "source": [
    "\n",
    "\n",
    "\n"
   ]
  },
  {
   "cell_type": "code",
   "execution_count": null,
   "id": "6d4da15c",
   "metadata": {},
   "outputs": [],
   "source": []
  },
  {
   "cell_type": "code",
   "execution_count": null,
   "id": "79eced09",
   "metadata": {},
   "outputs": [],
   "source": []
  },
  {
   "cell_type": "code",
   "execution_count": null,
   "id": "1b8df565",
   "metadata": {},
   "outputs": [],
   "source": [
    "\n",
    "\n"
   ]
  },
  {
   "cell_type": "code",
   "execution_count": null,
   "id": "089c7181",
   "metadata": {},
   "outputs": [],
   "source": []
  },
  {
   "cell_type": "code",
   "execution_count": null,
   "id": "85f3e731",
   "metadata": {},
   "outputs": [],
   "source": []
  },
  {
   "cell_type": "code",
   "execution_count": null,
   "id": "6b58be3c",
   "metadata": {},
   "outputs": [],
   "source": []
  },
  {
   "cell_type": "code",
   "execution_count": null,
   "id": "e872f8fb",
   "metadata": {},
   "outputs": [],
   "source": []
  },
  {
   "cell_type": "code",
   "execution_count": null,
   "id": "714ea1b1",
   "metadata": {},
   "outputs": [],
   "source": []
  }
 ],
 "metadata": {
  "kernelspec": {
   "display_name": "Python 3 (ipykernel)",
   "language": "python",
   "name": "python3"
  },
  "language_info": {
   "codemirror_mode": {
    "name": "ipython",
    "version": 3
   },
   "file_extension": ".py",
   "mimetype": "text/x-python",
   "name": "python",
   "nbconvert_exporter": "python",
   "pygments_lexer": "ipython3",
   "version": "3.9.12"
  }
 },
 "nbformat": 4,
 "nbformat_minor": 5
}
